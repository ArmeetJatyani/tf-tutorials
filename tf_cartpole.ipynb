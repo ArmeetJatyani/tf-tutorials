{
  "nbformat": 4,
  "nbformat_minor": 0,
  "metadata": {
    "colab": {
      "name": "tf-cartpole.ipynb",
      "provenance": [],
      "authorship_tag": "ABX9TyOWppPxdwj8x8su/srkL0AR",
      "include_colab_link": true
    },
    "kernelspec": {
      "name": "python3",
      "display_name": "Python 3"
    }
  },
  "cells": [
    {
      "cell_type": "markdown",
      "metadata": {
        "id": "view-in-github",
        "colab_type": "text"
      },
      "source": [
        "<a href=\"https://colab.research.google.com/github/ArmeetJatyani/tf-tutorials/blob/main/tf_cartpole.ipynb\" target=\"_parent\"><img src=\"https://colab.research.google.com/assets/colab-badge.svg\" alt=\"Open In Colab\"/></a>"
      ]
    },
    {
      "cell_type": "markdown",
      "metadata": {
        "id": "mNyuuYwt7K5Z"
      },
      "source": [
        "# TF Cartpole\r\n",
        "https://www.tensorflow.org/tutorials/reinforcement_learning/actor_critic"
      ]
    },
    {
      "cell_type": "code",
      "metadata": {
        "id": "eP2r_w2i7DgO"
      },
      "source": [
        "# Download Libs\r\n",
        "!pip install -q gym\r\n",
        "!sudo apt-get install -y xvfb python-opengl > /dev/null 2>&1\r\n",
        "!pip install -q pyvirtualdisplay > /dev/null 2>&1\r\n",
        "!pip install -q git+https://github.com/tensorflow/docs > /dev/null 2>&1"
      ],
      "execution_count": 4,
      "outputs": []
    },
    {
      "cell_type": "code",
      "metadata": {
        "id": "03-h7cgJ7Obp"
      },
      "source": [
        "# Import Libs\r\n",
        "import collections\r\n",
        "import gym\r\n",
        "import numpy as np\r\n",
        "import tensorflow as tf\r\n",
        "import tqdm\r\n",
        "\r\n",
        "from matplotlib import pyplot as plt\r\n",
        "from tensorflow.keras import layers\r\n",
        "from typing import Any, List, Sequence, Tuple"
      ],
      "execution_count": 5,
      "outputs": []
    },
    {
      "cell_type": "code",
      "metadata": {
        "id": "5Q6c3rF57OZ7"
      },
      "source": [
        ""
      ],
      "execution_count": null,
      "outputs": []
    },
    {
      "cell_type": "code",
      "metadata": {
        "id": "7v153VQt7OYA"
      },
      "source": [
        ""
      ],
      "execution_count": null,
      "outputs": []
    },
    {
      "cell_type": "code",
      "metadata": {
        "id": "eCgvQhae7OVf"
      },
      "source": [
        ""
      ],
      "execution_count": null,
      "outputs": []
    }
  ]
}