{
  "nbformat": 4,
  "nbformat_minor": 0,
  "metadata": {
    "colab": {
      "name": "tf-image-classification.ipynb",
      "provenance": [],
      "collapsed_sections": [],
      "authorship_tag": "ABX9TyPWUTeXAQ3/5CMj2hoCHBl/",
      "include_colab_link": true
    },
    "kernelspec": {
      "name": "python3",
      "display_name": "Python 3"
    }
  },
  "cells": [
    {
      "cell_type": "markdown",
      "metadata": {
        "id": "view-in-github",
        "colab_type": "text"
      },
      "source": [
        "<a href=\"https://colab.research.google.com/github/ArmeetJatyani/tf-tutorials/blob/main/tf_image_classification.ipynb\" target=\"_parent\"><img src=\"https://colab.research.google.com/assets/colab-badge.svg\" alt=\"Open In Colab\"/></a>"
      ]
    },
    {
      "cell_type": "markdown",
      "metadata": {
        "id": "WjqtCMGctS97"
      },
      "source": [
        "# Image Classification\r\n",
        "https://www.tensorflow.org/tutorials/keras/classification"
      ]
    },
    {
      "cell_type": "code",
      "metadata": {
        "colab": {
          "base_uri": "https://localhost:8080/"
        },
        "id": "TgYF0U_Otc-3",
        "outputId": "89025456-2a20-48ba-aacc-05ee870afc4b"
      },
      "source": [
        "# import tf\r\n",
        "import tensorflow as tf\r\n",
        "\r\n",
        "# Helper libraries\r\n",
        "import numpy as np\r\n",
        "import matplotlib.pyplot as plt\r\n",
        "\r\n",
        "# print tf version\r\n",
        "print(tf.__version__)"
      ],
      "execution_count": 1,
      "outputs": [
        {
          "output_type": "stream",
          "text": [
            "2.4.1\n"
          ],
          "name": "stdout"
        }
      ]
    },
    {
      "cell_type": "code",
      "metadata": {
        "id": "EqV_FWFRtc8s"
      },
      "source": [
        "# import dataset (Fashion MNIST)\r\n",
        "fashion_mnist = tf.keras.datasets.fashion_mnist"
      ],
      "execution_count": 2,
      "outputs": []
    },
    {
      "cell_type": "code",
      "metadata": {
        "colab": {
          "base_uri": "https://localhost:8080/"
        },
        "id": "ygr7F-qwtcnq",
        "outputId": "cdc58a67-498e-4b96-92e2-6ff256009ab8"
      },
      "source": [
        "# load train images/labels + test images/labels\r\n",
        "(train_images, train_labels), (test_images, test_labels) = fashion_mnist.load_data()"
      ],
      "execution_count": 3,
      "outputs": [
        {
          "output_type": "stream",
          "text": [
            "Downloading data from https://storage.googleapis.com/tensorflow/tf-keras-datasets/train-labels-idx1-ubyte.gz\n",
            "32768/29515 [=================================] - 0s 0us/step\n",
            "Downloading data from https://storage.googleapis.com/tensorflow/tf-keras-datasets/train-images-idx3-ubyte.gz\n",
            "26427392/26421880 [==============================] - 0s 0us/step\n",
            "Downloading data from https://storage.googleapis.com/tensorflow/tf-keras-datasets/t10k-labels-idx1-ubyte.gz\n",
            "8192/5148 [===============================================] - 0s 0us/step\n",
            "Downloading data from https://storage.googleapis.com/tensorflow/tf-keras-datasets/t10k-images-idx3-ubyte.gz\n",
            "4423680/4422102 [==============================] - 0s 0us/step\n"
          ],
          "name": "stdout"
        }
      ]
    },
    {
      "cell_type": "code",
      "metadata": {
        "colab": {
          "base_uri": "https://localhost:8080/"
        },
        "id": "P-u1SsMfubPe",
        "outputId": "3332168b-a528-4d70-f19d-b44084fc2da0"
      },
      "source": [
        "# visualize images and labels\r\n",
        "print(\"Train Images Shape\", train_images.shape)\r\n",
        "print(\"Train Labels Shape\", train_labels.shape)\r\n",
        "print(train_labels, \"\\n\")\r\n",
        "\r\n",
        "print(\"Test Images Shape\", test_images.shape)\r\n",
        "print(\"Test Labels Shape\", test_labels.shape)\r\n",
        "print(test_labels, \"\\n\")"
      ],
      "execution_count": 24,
      "outputs": [
        {
          "output_type": "stream",
          "text": [
            "Train Images Shape (60000, 28, 28)\n",
            "Train Labels Shape (60000,)\n",
            "[9 0 0 ... 3 0 5] \n",
            "\n",
            "Test Images Shape (10000, 28, 28)\n",
            "Test Labels Shape (10000,)\n",
            "[9 2 1 ... 8 1 5] \n",
            "\n"
          ],
          "name": "stdout"
        }
      ]
    },
    {
      "cell_type": "code",
      "metadata": {
        "id": "g-5fHDk_ubOV"
      },
      "source": [
        "# label 0 = T-shirt/top\r\n",
        "# label 1 = Trouser\r\n",
        "\r\n",
        "# define class names class_names[label] = class\r\n",
        "class_names = ['T-shirt/top', 'Trouser', 'Pullover', 'Dress', 'Coat',\r\n",
        "               'Sandal', 'Shirt', 'Sneaker', 'Bag', 'Ankle boot']"
      ],
      "execution_count": 25,
      "outputs": []
    },
    {
      "cell_type": "code",
      "metadata": {
        "colab": {
          "base_uri": "https://localhost:8080/",
          "height": 248
        },
        "id": "PNw8RFhDubMl",
        "outputId": "09d75bf8-4eb3-44c9-ea6d-003a652052af"
      },
      "source": [
        "# show first image in the training data (boot)\r\n",
        "plt.figure()\r\n",
        "plt.imshow(train_images[0])\r\n",
        "plt.grid(False)\r\n",
        "plt.axis(False)\r\n",
        "plt.show()"
      ],
      "execution_count": 34,
      "outputs": [
        {
          "output_type": "display_data",
          "data": {
            "image/png": "[encoded data removed]",
            "text/plain": [
              "<Figure size 432x288 with 1 Axes>"
            ]
          },
          "metadata": {
            "tags": [],
            "needs_background": "light"
          }
        }
      ]
    },
    {
      "cell_type": "code",
      "metadata": {
        "id": "pHsgsrvCubKR"
      },
      "source": [
        "# normalize the data\r\n",
        "# divide every pixel valu eby 255, since all values are between 0 and 255\r\n",
        "# resulting values will be from 0 to 1, perfect for the model\r\n",
        "\r\n",
        "train_images = train_images / 255.0\r\n",
        "test_images = test_images / 255.0"
      ],
      "execution_count": 35,
      "outputs": []
    },
    {
      "cell_type": "code",
      "metadata": {
        "id": "4HZS4bsaubIN"
      },
      "source": [
        ""
      ],
      "execution_count": null,
      "outputs": []
    },
    {
      "cell_type": "code",
      "metadata": {
        "id": "FDT8xL9fubFk"
      },
      "source": [
        ""
      ],
      "execution_count": null,
      "outputs": []
    },
    {
      "cell_type": "code",
      "metadata": {
        "id": "hL_26GG5ubCW"
      },
      "source": [
        ""
      ],
      "execution_count": null,
      "outputs": []
    }
  ]
}